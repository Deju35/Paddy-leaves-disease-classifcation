{
 "cells": [
  {
   "cell_type": "code",
   "execution_count": 1,
   "id": "bc997e05",
   "metadata": {
    "_cell_guid": "b1076dfc-b9ad-4769-8c92-a6c4dae69d19",
    "_uuid": "8f2839f25d086af736a60e9eeb907d3b93b6e0e5",
    "execution": {
     "iopub.execute_input": "2022-11-26T19:00:05.440093Z",
     "iopub.status.busy": "2022-11-26T19:00:05.439681Z",
     "iopub.status.idle": "2022-11-26T19:00:16.512141Z",
     "shell.execute_reply": "2022-11-26T19:00:16.511096Z"
    },
    "papermill": {
     "duration": 11.079378,
     "end_time": "2022-11-26T19:00:16.515024",
     "exception": false,
     "start_time": "2022-11-26T19:00:05.435646",
     "status": "completed"
    },
    "tags": []
   },
   "outputs": [
    {
     "name": "stdout",
     "output_type": "stream",
     "text": [
      "\u001b[33mWARNING: Running pip as the 'root' user can result in broken permissions and conflicting behaviour with the system package manager. It is recommended to use a virtual environment instead: https://pip.pypa.io/warnings/venv\u001b[0m\u001b[33m\r\n",
      "\u001b[0m"
     ]
    }
   ],
   "source": [
    "try: import fastkaggle\n",
    "except ModuleNotFoundError:\n",
    "    !pip install -Uq fastkaggle\n",
    "from fastkaggle import *\n"
   ]
  },
  {
   "cell_type": "code",
   "execution_count": 2,
   "id": "9aff4282",
   "metadata": {
    "execution": {
     "iopub.execute_input": "2022-11-26T19:00:16.520799Z",
     "iopub.status.busy": "2022-11-26T19:00:16.520210Z",
     "iopub.status.idle": "2022-11-26T19:00:35.482738Z",
     "shell.execute_reply": "2022-11-26T19:00:35.481476Z"
    },
    "papermill": {
     "duration": 18.967961,
     "end_time": "2022-11-26T19:00:35.485255",
     "exception": false,
     "start_time": "2022-11-26T19:00:16.517294",
     "status": "completed"
    },
    "tags": []
   },
   "outputs": [],
   "source": [
    "comp = 'paddy-disease-classification'\n",
    "path = setup_comp(comp, install='fastai \"timm>=0.6.2.dev0\"')\n",
    "from fastai.vision.all import *\n",
    "set_seed(42)\n",
    "\n",
    "test_files = get_image_files(path/'test_images').sorted()\n"
   ]
  },
  {
   "cell_type": "code",
   "execution_count": 3,
   "id": "54825db3",
   "metadata": {
    "execution": {
     "iopub.execute_input": "2022-11-26T19:00:35.490898Z",
     "iopub.status.busy": "2022-11-26T19:00:35.490405Z",
     "iopub.status.idle": "2022-11-26T19:00:35.533660Z",
     "shell.execute_reply": "2022-11-26T19:00:35.532618Z"
    },
    "papermill": {
     "duration": 0.048678,
     "end_time": "2022-11-26T19:00:35.536088",
     "exception": false,
     "start_time": "2022-11-26T19:00:35.487410",
     "status": "completed"
    },
    "tags": []
   },
   "outputs": [
    {
     "data": {
      "text/plain": [
       "normal                      1764\n",
       "blast                       1738\n",
       "hispa                       1594\n",
       "dead_heart                  1442\n",
       "tungro                      1088\n",
       "brown_spot                   965\n",
       "downy_mildew                 620\n",
       "bacterial_leaf_blight        479\n",
       "bacterial_leaf_streak        380\n",
       "bacterial_panicle_blight     337\n",
       "Name: label, dtype: int64"
      ]
     },
     "execution_count": 3,
     "metadata": {},
     "output_type": "execute_result"
    }
   ],
   "source": [
    "df = pd.read_csv(path/'train.csv')\n",
    "df.label.value_counts()"
   ]
  },
  {
   "cell_type": "code",
   "execution_count": 4,
   "id": "58bdd844",
   "metadata": {
    "execution": {
     "iopub.execute_input": "2022-11-26T19:00:35.541496Z",
     "iopub.status.busy": "2022-11-26T19:00:35.540896Z",
     "iopub.status.idle": "2022-11-26T19:00:35.545956Z",
     "shell.execute_reply": "2022-11-26T19:00:35.545093Z"
    },
    "papermill": {
     "duration": 0.009935,
     "end_time": "2022-11-26T19:00:35.547947",
     "exception": false,
     "start_time": "2022-11-26T19:00:35.538012",
     "status": "completed"
    },
    "tags": []
   },
   "outputs": [],
   "source": [
    "train_path = path/'train_images'/'bacterial_panicle_blight'"
   ]
  },
  {
   "cell_type": "code",
   "execution_count": 5,
   "id": "a5173ba9",
   "metadata": {
    "execution": {
     "iopub.execute_input": "2022-11-26T19:00:35.552739Z",
     "iopub.status.busy": "2022-11-26T19:00:35.552481Z",
     "iopub.status.idle": "2022-11-26T19:00:35.556989Z",
     "shell.execute_reply": "2022-11-26T19:00:35.556103Z"
    },
    "papermill": {
     "duration": 0.009077,
     "end_time": "2022-11-26T19:00:35.558867",
     "exception": false,
     "start_time": "2022-11-26T19:00:35.549790",
     "status": "completed"
    },
    "tags": []
   },
   "outputs": [],
   "source": [
    "def train(arch, size, item=Resize(480, method='squish'), accum=1,finetune=True, epochs=12):\n",
    "    dls = ImageDataLoaders.from_folder(train_path)"
   ]
  }
 ],
 "metadata": {
  "kernelspec": {
   "display_name": "Python 3",
   "language": "python",
   "name": "python3"
  },
  "language_info": {
   "codemirror_mode": {
    "name": "ipython",
    "version": 3
   },
   "file_extension": ".py",
   "mimetype": "text/x-python",
   "name": "python",
   "nbconvert_exporter": "python",
   "pygments_lexer": "ipython3",
   "version": "3.7.12"
  },
  "papermill": {
   "default_parameters": {},
   "duration": 39.156631,
   "end_time": "2022-11-26T19:00:36.681792",
   "environment_variables": {},
   "exception": null,
   "input_path": "__notebook__.ipynb",
   "output_path": "__notebook__.ipynb",
   "parameters": {},
   "start_time": "2022-11-26T18:59:57.525161",
   "version": "2.3.4"
  }
 },
 "nbformat": 4,
 "nbformat_minor": 5
}
